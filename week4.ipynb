{
 "cells": [
  {
   "cell_type": "markdown",
   "id": "8e13d882",
   "metadata": {},
   "source": [
    "# IV. Camera Calibration\n",
    "\n",
    "TODO: ask about normalisation (3D)"
   ]
  },
  {
   "cell_type": "code",
   "execution_count": 1,
   "id": "88d4fd61",
   "metadata": {},
   "outputs": [],
   "source": [
    "import numpy as np\n",
    "import matplotlib.pyplot as plt\n",
    "from scipy.spatial.transform import Rotation\n",
    "\n",
    "from lib import hest, CrossOp, normalize2d"
   ]
  },
  {
   "cell_type": "markdown",
   "id": "432b944b",
   "metadata": {},
   "source": [
    "## Direct linear transform"
   ]
  },
  {
   "cell_type": "code",
   "execution_count": 2,
   "id": "8aa84e09",
   "metadata": {},
   "outputs": [],
   "source": [
    "Q = np.array([\n",
    "    [0, 0, 0, 0, 1, 1, 1, 1],\n",
    "    [0, 0, 1, 1, 0, 0, 1, 1],\n",
    "    [0, 1, 0, 1, 0, 1, 0, 1],\n",
    "    np.ones(8)\n",
    "])\n",
    "\n",
    "f = 1000\n",
    "h, w = 1080, 1920\n",
    "\n",
    "K = np.array([\n",
    "    [f, 0, w / 2],\n",
    "    [0, f, h / 2],\n",
    "    [0, 0, 1    ],\n",
    "])\n",
    "\n",
    "R = np.array([\n",
    "    [np.sqrt(0.5), -np.sqrt(0.5), 0],\n",
    "    [np.sqrt(0.5),  np.sqrt(0.5), 0],\n",
    "    [0           ,  0           , 1],\n",
    "])\n",
    "t = np.array([0, 0, 10]).reshape(3, 1)"
   ]
  },
  {
   "cell_type": "markdown",
   "id": "ba59c75b",
   "metadata": {},
   "source": [
    "### 1. Projection"
   ]
  },
  {
   "cell_type": "code",
   "execution_count": 3,
   "id": "c2e549f7",
   "metadata": {},
   "outputs": [
    {
     "data": {
      "text/plain": [
       "array([[ 707, -707,  960, 9600],\n",
       "       [ 707,  707,  540, 5400],\n",
       "       [   0,    0,    1,   10]])"
      ]
     },
     "execution_count": 3,
     "metadata": {},
     "output_type": "execute_result"
    }
   ],
   "source": [
    "# Projection matrix\n",
    "T = np.hstack([R, t])\n",
    "P = K @ T\n",
    "P.astype(int)"
   ]
  },
  {
   "cell_type": "code",
   "execution_count": 4,
   "id": "fab8fdda",
   "metadata": {},
   "outputs": [
    {
     "data": {
      "text/plain": [
       "array([[ 960,  960,  889,  895, 1030, 1024,  960,  960],\n",
       "       [ 540,  540,  610,  604,  610,  604,  681,  668],\n",
       "       [   1,    1,    1,    1,    1,    1,    1,    1]])"
      ]
     },
     "execution_count": 4,
     "metadata": {},
     "output_type": "execute_result"
    }
   ],
   "source": [
    "# projections\n",
    "q = P @ Q\n",
    "q = q / q[2]\n",
    "q.astype(int)"
   ]
  },
  {
   "cell_type": "markdown",
   "id": "74f40345",
   "metadata": {},
   "source": [
    "### 2. Estimation of the projection matrix from the points with DLT"
   ]
  },
  {
   "cell_type": "code",
   "execution_count": 5,
   "id": "27a67c13",
   "metadata": {},
   "outputs": [],
   "source": [
    "def DLT(Q, q, normalize=True):\n",
    "    \"\"\"Return the projection matrix P such that q = P @ Q.\n",
    "    \n",
    "    Parameters\n",
    "    ----------\n",
    "    Q, q: numpy arrays\n",
    "        Homogeneous points before and after the projection: q = PQ.\n",
    "    \"\"\"\n",
    "    _, n = Q.shape\n",
    "    if normalize:\n",
    "#         TQ, Q = normalize2d(Q)\n",
    "        Tq, q = normalize2d(q)\n",
    "\n",
    "    B = np.zeros((3 * n, 12))\n",
    "    for i in range(n):\n",
    "        B[3 * i: 3 * i + 3] = np.kron(Q[:, i], CrossOp(q[:, i]))\n",
    "    u, s, vh = np.linalg.svd(B)\n",
    "    P = vh[-1]\n",
    "    P = P.reshape(4, 3).T\n",
    "    \n",
    "    if normalize:\n",
    "        P = np.linalg.inv(Tq) @ P #@ TQ\n",
    "    \n",
    "    return P/P[-1, -1]"
   ]
  },
  {
   "cell_type": "code",
   "execution_count": 6,
   "id": "d9b6747c",
   "metadata": {},
   "outputs": [
    {
     "data": {
      "text/plain": [
       "array([[ 7.0711e+02, -7.0711e+02,  9.6000e+02,  9.6000e+03],\n",
       "       [ 7.0711e+02,  7.0711e+02,  5.4000e+02,  5.4000e+03],\n",
       "       [-0.0000e+00,  0.0000e+00,  1.0000e+00,  1.0000e+01]])"
      ]
     },
     "execution_count": 6,
     "metadata": {},
     "output_type": "execute_result"
    }
   ],
   "source": [
    "P = DLT(Q, q)\n",
    "np.round(P * 10, 2)"
   ]
  },
  {
   "cell_type": "code",
   "execution_count": 7,
   "id": "84debae1",
   "metadata": {},
   "outputs": [
    {
     "data": {
      "text/plain": [
       "6.588450728461687e-10"
      ]
     },
     "execution_count": 7,
     "metadata": {},
     "output_type": "execute_result"
    }
   ],
   "source": [
    "P = DLT(Q, q, normalize=False)\n",
    "q2 = P @ Q\n",
    "q2 = q2 / q2[2]\n",
    "projection_error = np.linalg.norm(q - q2)\n",
    "projection_error"
   ]
  },
  {
   "cell_type": "code",
   "execution_count": 8,
   "id": "5463225a",
   "metadata": {},
   "outputs": [
    {
     "data": {
      "text/plain": [
       "1.9691137908567693e-13"
      ]
     },
     "execution_count": 8,
     "metadata": {},
     "output_type": "execute_result"
    }
   ],
   "source": [
    "P = DLT(Q, q, normalize=True)\n",
    "q2 = P @ Q\n",
    "q2 = q2 / q2[2]\n",
    "projection_error = np.linalg.norm(q - q2)\n",
    "projection_error"
   ]
  },
  {
   "cell_type": "markdown",
   "id": "c76b3d63",
   "metadata": {},
   "source": [
    "The absolute projection error diminishes with normalisation"
   ]
  },
  {
   "cell_type": "markdown",
   "id": "76aeb0d5",
   "metadata": {},
   "source": [
    "## Checkerboard calibration"
   ]
  },
  {
   "cell_type": "markdown",
   "id": "1e99f453",
   "metadata": {},
   "source": [
    "### 3. Checkboards points"
   ]
  },
  {
   "cell_type": "code",
   "execution_count": 9,
   "id": "be1855f8",
   "metadata": {},
   "outputs": [],
   "source": [
    "def checkerboard_points(n, m):\n",
    "    \"\"\"Return the inhomogeneous 3D points of a checkerboard.\"\"\"\n",
    "    return np.array([\n",
    "        [i - (n - 1) / 2 for i in range(n) for j in range(m)],\n",
    "        [j - (m - 1) / 2 for i in range(n) for j in range(m)],\n",
    "        np.zeros(n * m),\n",
    "    ])"
   ]
  },
  {
   "cell_type": "code",
   "execution_count": 10,
   "id": "78129916",
   "metadata": {},
   "outputs": [
    {
     "data": {
      "text/plain": [
       "array([[-1., -1., -1.,  0.,  0.,  0.,  1.,  1.,  1.],\n",
       "       [-1.,  0.,  1., -1.,  0.,  1., -1.,  0.,  1.],\n",
       "       [ 0.,  0.,  0.,  0.,  0.,  0.,  0.,  0.,  0.]])"
      ]
     },
     "execution_count": 10,
     "metadata": {},
     "output_type": "execute_result"
    }
   ],
   "source": [
    "checkerboard_points(3, 3)"
   ]
  },
  {
   "cell_type": "markdown",
   "id": "759ed112",
   "metadata": {},
   "source": [
    "### 4. Moved points"
   ]
  },
  {
   "cell_type": "code",
   "execution_count": 11,
   "id": "39253cdb",
   "metadata": {},
   "outputs": [
    {
     "data": {
      "image/png": "[encoded data removed]",
      "text/plain": [
       "<Figure size 432x288 with 1 Axes>"
      ]
     },
     "metadata": {
      "needs_background": "light"
     },
     "output_type": "display_data"
    }
   ],
   "source": [
    "n, m = 8, 8\n",
    "Q_omega = checkerboard_points(n, m)\n",
    "\n",
    "R_a = Rotation.from_euler('xyz', [np.pi / 10, 0, 0]).as_matrix()\n",
    "R_c = Rotation.from_euler('xyz', [- np.pi / 10, 0, 0]).as_matrix()\n",
    "\n",
    "Q_a = np.vstack((\n",
    "    R_a @ Q_omega,\n",
    "    np.ones(n * m)\n",
    "))\n",
    "Q_b = np.vstack((\n",
    "    Q_omega,\n",
    "    np.ones(n * m)\n",
    "))\n",
    "Q_c = np.vstack((\n",
    "    R_c @ Q_omega,\n",
    "    np.ones(n * m)\n",
    "))\n",
    "\n",
    "Q_omega = np.vstack((\n",
    "    Q_omega,\n",
    "    np.ones(n * m)\n",
    "))\n",
    "\n",
    "\n",
    "fig = plt.figure()\n",
    "ax = fig.add_subplot(111, projection=\"3d\")\n",
    "ax.scatter(Q_a[0], Q_a[1], Q_a[2])\n",
    "ax.scatter(Q_b[0], Q_b[1], Q_b[2])\n",
    "ax.scatter(Q_c[0], Q_c[1], Q_c[2])\n",
    "ax.view_init(15, 15)"
   ]
  },
  {
   "cell_type": "code",
   "execution_count": 12,
   "id": "f72b1508",
   "metadata": {},
   "outputs": [],
   "source": [
    "q_a = P @ Q_a\n",
    "q_b = P @ Q_b\n",
    "q_c = P @ Q_c\n",
    "qs = [q_a, q_b, q_c]"
   ]
  },
  {
   "cell_type": "markdown",
   "id": "7d6daf12",
   "metadata": {},
   "source": [
    "## Zhang's method"
   ]
  },
  {
   "cell_type": "markdown",
   "id": "9748ac48",
   "metadata": {},
   "source": [
    "### 5. Estimation of homograpies"
   ]
  },
  {
   "cell_type": "code",
   "execution_count": 13,
   "id": "59f6b6b1",
   "metadata": {},
   "outputs": [],
   "source": [
    "def estimateHomographies(Q_omega, qs):\n",
    "    \"\"\"Return homographies that map from Q_omega to each of the entries in qs.\n",
    "    \n",
    "    Parameters\n",
    "    ----------\n",
    "    Q_omega: numpy array\n",
    "        original un-transformed checkerboard points in 3D.\n",
    "    qs: list of arrays\n",
    "        each element in the list containing Q Ω projected to the image\n",
    "        plane from different views.\n",
    "    \n",
    "    Return\n",
    "    ------\n",
    "    list of 3 x 3 arrays\n",
    "        homographies\n",
    "        \n",
    "    \"\"\"\n",
    "    m = [0, 1, 3]\n",
    "    return [hest(Q_omega[m, :], qs[i]) for i in range(len(qs))]"
   ]
  },
  {
   "cell_type": "code",
   "execution_count": 14,
   "id": "b8395c9a",
   "metadata": {},
   "outputs": [],
   "source": [
    "Hs = estimateHomographies(Q_omega, qs)\n",
    "H_a, H_b, H_c = Hs"
   ]
  },
  {
   "cell_type": "markdown",
   "id": "59aec09b",
   "metadata": {},
   "source": [
    "We can check that the homograpies are correct:"
   ]
  },
  {
   "cell_type": "code",
   "execution_count": 15,
   "id": "5bdb3632",
   "metadata": {},
   "outputs": [
    {
     "data": {
      "text/plain": [
       "(True, True, True)"
      ]
     },
     "execution_count": 15,
     "metadata": {},
     "output_type": "execute_result"
    }
   ],
   "source": [
    "tilde = [0, 1, 3]\n",
    "a = (np.round(H_a @ Q_omega[tilde] - q_a, 12) == 0).all()\n",
    "b = (np.round(H_b @ Q_omega[tilde] - q_b, 12) == 0).all()\n",
    "c = (np.round(H_c @ Q_omega[tilde] - q_c, 12) == 0).all()\n",
    "a, b, c"
   ]
  },
  {
   "cell_type": "markdown",
   "id": "7b977af1",
   "metadata": {},
   "source": [
    "### 6. Estimation of $\\mathit{b}$"
   ]
  },
  {
   "cell_type": "code",
   "execution_count": 16,
   "id": "ae995a41",
   "metadata": {},
   "outputs": [],
   "source": [
    "def estimate_b(Hs):\n",
    "    \"\"\"Return the estimate of the b matrix.\n",
    "    \n",
    "    Parameters\n",
    "    ----------\n",
    "    Hs: list of 3 x 3 arrays\n",
    "        homographies\n",
    "    \"\"\"\n",
    "    n = len(Hs)\n",
    "    V = np.zeros((2 * n, 6))\n",
    "\n",
    "    for i in range(n):\n",
    "        V[2 * i: 2 * i + 2] = np.array([\n",
    "            get_v(0, 1, Hs[i]),\n",
    "            get_v(0, 0, Hs[i]) - get_v(1, 1, Hs[i])\n",
    "        ])\n",
    "    u, s, vh = np.linalg.svd(V)\n",
    "    b = vh[-1]\n",
    "    return b\n",
    "    \n",
    "\n",
    "def get_v(alpha, beta, H):\n",
    "    return np.array([\n",
    "        H[0, alpha] * H[0, beta],\n",
    "        H[0, alpha] * H[1, beta] + H[1, alpha] * H[0, beta],\n",
    "        H[1, alpha] * H[1, beta],\n",
    "        H[2, alpha] * H[0, beta] + H[0, alpha] * H[2, beta],\n",
    "        H[2, alpha] * H[1, beta] + H[1, alpha] * H[2, beta],\n",
    "        H[2, alpha] * H[2, beta],\n",
    "    ])"
   ]
  },
  {
   "cell_type": "markdown",
   "id": "6843824e",
   "metadata": {},
   "source": [
    "Let us check that we get the same result with $\\textbf{B}_{true} = \\textbf{K}^{-T}\\textbf{K}^{-1}$"
   ]
  },
  {
   "cell_type": "code",
   "execution_count": 17,
   "id": "fcaa65d0",
   "metadata": {},
   "outputs": [
    {
     "data": {
      "text/plain": [
       "array([ 5.59552717e-14, -5.45121710e-22,  5.59552737e-14, -5.37170695e-11,\n",
       "       -3.02158408e-11,  1.23840221e-07])"
      ]
     },
     "execution_count": 17,
     "metadata": {},
     "output_type": "execute_result"
    }
   ],
   "source": [
    "B_true = np.linalg.inv(K).T @ np.linalg.inv(K)\n",
    "b_true = [\n",
    "    B_true[0, 0],\n",
    "    B_true[0, 1],\n",
    "    B_true[1, 1],\n",
    "    B_true[0, 2],\n",
    "    B_true[1, 2],\n",
    "    B_true[2, 2]\n",
    "]\n",
    "b_true/b_true[-1] - estimate_b([H_a, H_b, H_c])"
   ]
  },
  {
   "cell_type": "markdown",
   "id": "c17e5a72",
   "metadata": {},
   "source": [
    "B is symmetric. Therefore:"
   ]
  },
  {
   "cell_type": "code",
   "execution_count": 18,
   "id": "c76520f9",
   "metadata": {},
   "outputs": [],
   "source": [
    "b = estimate_b([H_a, H_b, H_c])\n",
    "B = np.array([\n",
    "    [b[0], b[1], b[3]],\n",
    "    [b[1], b[2], b[4]],\n",
    "    [b[3], b[4], b[5]],\n",
    "])"
   ]
  },
  {
   "cell_type": "markdown",
   "id": "846c1273",
   "metadata": {},
   "source": [
    "### 7. Estimation of the camera matrix"
   ]
  },
  {
   "cell_type": "code",
   "execution_count": 19,
   "id": "493c2b8f",
   "metadata": {},
   "outputs": [],
   "source": [
    "def estimateIntrinsics(Hs):\n",
    "    \"\"\"Return the camera matrix given a list of homographies.\n",
    "    \n",
    "    Parameters\n",
    "    ----------\n",
    "    Hs: list of 3 x 3 numpy arrays\n",
    "        homographies\n",
    "\n",
    "    Return\n",
    "    ------\n",
    "    A: 3 x 3 numpy array\n",
    "        Camera matrix\n",
    "    \"\"\"\n",
    "    b = estimate_b(Hs)\n",
    "#     B = np.array([\n",
    "#         [b[0], b[1], b[3]],\n",
    "#         [b[1], b[2], b[4]],\n",
    "#         [b[3], b[4], b[5]],\n",
    "#     ])\n",
    "\n",
    "    term1 = b[1] * b[3] - b[0] * b[4]\n",
    "    term2 = b[0] * b[2] - b[1] ** 2\n",
    "\n",
    "    v0 = term1 / term2\n",
    "    lambda_ = b[5] - (b[3] ** 2 + v0 * term1) / b[0]\n",
    "    alpha = np.sqrt(lambda_ / b[0])\n",
    "    beta = np.sqrt(lambda_ * b[0] / term2)\n",
    "    gamma = -b[1] * alpha ** 2 * beta / lambda_\n",
    "    u0 = gamma * v0 / beta - b[3] * alpha ** 2 / lambda_\n",
    "    \n",
    "    A = np.array([\n",
    "        [alpha, gamma, u0],\n",
    "        [0    , beta , v0],\n",
    "        [0    , 0    , 1 ],\n",
    "    ])\n",
    "    return A"
   ]
  },
  {
   "cell_type": "code",
   "execution_count": 20,
   "id": "cf061da6",
   "metadata": {},
   "outputs": [
    {
     "data": {
      "text/plain": [
       "array([[1000.,   -0.,  960.],\n",
       "       [   0., 1000.,  540.],\n",
       "       [   0.,    0.,    1.]])"
      ]
     },
     "execution_count": 20,
     "metadata": {},
     "output_type": "execute_result"
    }
   ],
   "source": [
    "np.rint(estimateIntrinsics(Hs * 10))"
   ]
  },
  {
   "cell_type": "markdown",
   "id": "cb41a1b2",
   "metadata": {},
   "source": [
    "### 8. Full camera calibration"
   ]
  },
  {
   "cell_type": "code",
   "execution_count": 21,
   "id": "8b575585",
   "metadata": {},
   "outputs": [],
   "source": [
    "def estimateExtrinsics(K, Hs):\n",
    "    \"\"\"Return the extrinsic parameters of the camera.\"\"\"\n",
    "    Rs = []\n",
    "    ts = []\n",
    "    for H in Hs:\n",
    "        lambda_ = 1 / np.linalg.norm(np.linalg.inv(K) @ H[:, 0])\n",
    "        r0 = lambda_ * np.linalg.inv(K) @ H[:, 0]\n",
    "        r1 = lambda_ * np.linalg.inv(K) @ H[:, 1]\n",
    "        t  = lambda_ * np.linalg.inv(K) @ H[:, 2]\n",
    "\n",
    "        Rs.append(np.vstack((r0, r1, np.cross(r0, r1))).T)\n",
    "        ts.append(t)\n",
    "    return Rs, ts\n",
    "\n",
    "def calibrateCamera(qs, Q):\n",
    "    \"\"\"Return the intrisic and extrinsic parameters of a camera.\n",
    "    \n",
    "    Based on several view of a set of points.\n",
    "    \n",
    "    Parameters\n",
    "    ----------\n",
    "    qs: list of arrays\n",
    "        each element in the list containing Q projected to the image\n",
    "        plane from different views.\n",
    "    Q: numpy array\n",
    "        original un-transformed checkerboard points in 3D.\n",
    "    \"\"\"\n",
    "    Hs = estimateHomographies(Q_omega=Q, qs=qs)\n",
    "    K = estimateIntrinsics(Hs)\n",
    "    Rs, ts = estimateExtrinsics(K, Hs)\n",
    "    return K, Rs, ts"
   ]
  },
  {
   "cell_type": "code",
   "execution_count": 22,
   "id": "7abec2b1",
   "metadata": {},
   "outputs": [],
   "source": [
    "K, Rs, ts = calibrateCamera(qs, Q_omega)"
   ]
  },
  {
   "cell_type": "code",
   "execution_count": 23,
   "id": "182689ef",
   "metadata": {},
   "outputs": [
    {
     "name": "stdout",
     "output_type": "stream",
     "text": [
      "[[ 1.    0.    0.  ]\n",
      " [ 0.    0.95 -0.31]\n",
      " [ 0.    0.31  0.95]]\n",
      "[[ 0.71 -0.67  0.22]\n",
      " [ 0.71  0.67 -0.22]\n",
      " [-0.    0.31  0.95]]\n"
     ]
    }
   ],
   "source": [
    "print(np.round(R_a, 2))\n",
    "print(np.round(Rs[0], 2))"
   ]
  },
  {
   "cell_type": "code",
   "execution_count": 24,
   "id": "50f14a07",
   "metadata": {},
   "outputs": [
    {
     "name": "stdout",
     "output_type": "stream",
     "text": [
      "[[ 0.71 -0.71  0.  ]\n",
      " [ 0.71  0.71 -0.  ]\n",
      " [-0.    0.    1.  ]]\n"
     ]
    }
   ],
   "source": [
    "print(np.round(Rs[1], 2))"
   ]
  },
  {
   "cell_type": "code",
   "execution_count": 25,
   "id": "56c8e493",
   "metadata": {},
   "outputs": [
    {
     "name": "stdout",
     "output_type": "stream",
     "text": [
      "[[ 1.   -0.    0.  ]\n",
      " [ 0.    0.95  0.31]\n",
      " [-0.   -0.31  0.95]]\n",
      "[[ 0.71 -0.67 -0.22]\n",
      " [ 0.71  0.67  0.22]\n",
      " [-0.   -0.31  0.95]]\n"
     ]
    }
   ],
   "source": [
    "print(np.round(R_c, 2))\n",
    "print(np.round(Rs[2], 2))"
   ]
  },
  {
   "cell_type": "code",
   "execution_count": 26,
   "id": "e0167c0c",
   "metadata": {},
   "outputs": [
    {
     "data": {
      "text/plain": [
       "array([ 2.00728323e-13, -1.44773082e-13,  1.00000000e+01])"
      ]
     },
     "execution_count": 26,
     "metadata": {},
     "output_type": "execute_result"
    }
   ],
   "source": [
    "ts[0]"
   ]
  },
  {
   "cell_type": "code",
   "execution_count": null,
   "id": "87517a5e",
   "metadata": {},
   "outputs": [],
   "source": []
  }
 ],
 "metadata": {
  "kernelspec": {
   "display_name": "Python 3",
   "language": "python",
   "name": "python3"
  },
  "language_info": {
   "codemirror_mode": {
    "name": "ipython",
    "version": 3
   },
   "file_extension": ".py",
   "mimetype": "text/x-python",
   "name": "python",
   "nbconvert_exporter": "python",
   "pygments_lexer": "ipython3",
   "version": "3.8.8"
  }
 },
 "nbformat": 4,
 "nbformat_minor": 5
}
