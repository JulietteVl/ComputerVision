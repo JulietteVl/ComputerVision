{
 "cells": [
  {
   "cell_type": "markdown",
   "id": "3026185b",
   "metadata": {},
   "source": [
    "# III. Multi view/ stereo view geometry"
   ]
  },
  {
   "cell_type": "code",
   "execution_count": 24,
   "id": "67a854b5",
   "metadata": {},
   "outputs": [],
   "source": [
    "import numpy as np\n",
    "import matplotlib.pyplot as plt\n",
    "from scipy.spatial.transform import Rotation\n",
    "\n",
    "from lib import projectpoints"
   ]
  },
  {
   "cell_type": "markdown",
   "id": "be578b20",
   "metadata": {},
   "source": [
    "## Epipolar geometry"
   ]
  },
  {
   "cell_type": "code",
   "execution_count": 20,
   "id": "f81a2896",
   "metadata": {},
   "outputs": [],
   "source": [
    "# Internal parameters of the two cameras\n",
    "K = np.array([\n",
    "    [1000, 0   , 300],\n",
    "    [0   , 1000, 200],\n",
    "    [0   , 0   , 1  ],\n",
    "])\n",
    "\n",
    "# External parameters\n",
    "R1 = np.eye(3)\n",
    "t1 = np.zeros((3, 1))\n",
    "\n",
    "R2 = Rotation.from_euler('xyz', [0.7, -0.5, 0.8]).as_matrix()\n",
    "t2 = np.array([[0.2, 2, 1]]).T"
   ]
  },
  {
   "cell_type": "markdown",
   "id": "0f8f8742",
   "metadata": {},
   "source": [
    "### 1. Projection of 3D points on the cameras"
   ]
  },
  {
   "cell_type": "code",
   "execution_count": 28,
   "id": "f244f0e0",
   "metadata": {},
   "outputs": [],
   "source": [
    "def get_distorted(r, distortion_coefficients):\n",
    "    \"\"\"Return p(1 + dr(p)).\"\"\"\n",
    "    k3, k5, k7 = distortion_coefficients\n",
    "    n = np.sqrt(r[0, :] ** 2 + r[1, :] ** 2)\n",
    "    dr = k3 * n ** 2 + k5 * n ** 4 + k7 * n ** 6\n",
    "    r[:2, :] = r[:2, :] * (1 + dr)\n",
    "    return r"
   ]
  },
  {
   "cell_type": "code",
   "execution_count": 48,
   "id": "0c84b91f",
   "metadata": {},
   "outputs": [],
   "source": [
    "Q = np.array([[1, 0.5, 4, 1]]).T\n",
    "\n",
    "q1 = projectpoints(K, R1, t1, Q)[:, 0]\n",
    "q2 = projectpoints(K, R2, t2, Q)[:, 0]"
   ]
  },
  {
   "cell_type": "markdown",
   "id": "6dfcfa34",
   "metadata": {},
   "source": [
    "### 2. Cross product matrix"
   ]
  },
  {
   "cell_type": "code",
   "execution_count": 65,
   "id": "1ec6b35d",
   "metadata": {},
   "outputs": [],
   "source": [
    "def CrossOp(p):\n",
    "    \"\"\"Return the cross product operator.\n",
    "    \n",
    "    Take a vector in 3D and return the 3×3 matrix corresponding\n",
    "    to taking the cross product with that vector.\n",
    "    \n",
    "    Parameter\n",
    "    ---------\n",
    "    p: 3 x 1 numpy array\n",
    "    \n",
    "    Return\n",
    "    ------\n",
    "    CrossOP: 3 x 3 numpy array\n",
    "        cross product operator.\n",
    "    \n",
    "    \"\"\"\n",
    "    x, y, z = p.reshape(3)\n",
    "    return np.array([\n",
    "        [ 0, - z,  y],\n",
    "        [ z,   0, -x],\n",
    "        [-y,   x,  0],\n",
    "    ])"
   ]
  },
  {
   "cell_type": "code",
   "execution_count": 66,
   "id": "fc310ae3",
   "metadata": {},
   "outputs": [
    {
     "data": {
      "text/plain": [
       "array([ True,  True,  True])"
      ]
     },
     "execution_count": 66,
     "metadata": {},
     "output_type": "execute_result"
    }
   ],
   "source": [
    "np.cross(q1.T, q2.T) == CrossOp(q1) @ q2"
   ]
  },
  {
   "cell_type": "markdown",
   "id": "955dd269",
   "metadata": {},
   "source": [
    "### 3. Fundamental matrix of the two cameras"
   ]
  },
  {
   "cell_type": "code",
   "execution_count": 70,
   "id": "b3e20dcf",
   "metadata": {},
   "outputs": [],
   "source": [
    "def essential_matrix(R, t):\n",
    "    \"\"\"Return the essential matrix\n",
    "    \n",
    "    Parameters\n",
    "    ----------\n",
    "    R: 3 x 3 numpy array\n",
    "        Rotation matrix of camera 2 in the referential of camera 1\n",
    "    t: 3 x 1 numpy array\n",
    "        Translation matrix of camera 2 in the referential of camera 1\n",
    "    \n",
    "    Return:\n",
    "    E: 3 x 3 numpy array\n",
    "        Essential matrix\n",
    "    \"\"\"\n",
    "    return CrossOp(t) @ R\n",
    "\n",
    "\n",
    "def fundamental_matrix(R, t, K1, K2):\n",
    "    \"\"\"Return the fundamental matrix.\n",
    "    \n",
    "    Parameters\n",
    "    ----------\n",
    "    K1, K2: 3 x 3 numpy array\n",
    "        intrinsics parameters of the cameras\n",
    "    R: 3 x 3 numpy array\n",
    "        Rotation matrix of camera 2 in the referential of camera 1\n",
    "    t: 3 x 1 numpy array\n",
    "        Translation matrix of camera 2 in the referential of camera 1\n",
    "    \n",
    "    Return:\n",
    "    F: 3 x 3 numpy array\n",
    "        Fundamental matrix\n",
    "    \"\"\"\n",
    "    E = essential_matrix(R, t)\n",
    "    return np.linalg.inv(K2).T @ E @ np.linalg.inv(K1)"
   ]
  },
  {
   "cell_type": "code",
   "execution_count": 91,
   "id": "0be61e75",
   "metadata": {},
   "outputs": [
    {
     "data": {
      "text/plain": [
       "array([[ 3.29311881e-07,  8.19396327e-07,  1.79162592e-03],\n",
       "       [ 5.15532551e-07, -8.76915984e-07,  9.31426656e-05],\n",
       "       [-1.29882755e-03,  1.51951700e-03, -1.10072682e+00]])"
      ]
     },
     "execution_count": 91,
     "metadata": {},
     "output_type": "execute_result"
    }
   ],
   "source": [
    "F = fundamental_matrix(R2, t2, K, K)\n",
    "F"
   ]
  },
  {
   "cell_type": "markdown",
   "id": "c76c1fb6",
   "metadata": {},
   "source": [
    "### 4, 5. Epipolar line\n",
    "\n",
    "By property of the fundamental matrix:\n",
    "\n",
    "$q_1 F q_2^T = 0 \\Rightarrow l_1 = Fq_2^T$"
   ]
  },
  {
   "cell_type": "code",
   "execution_count": 93,
   "id": "8813fa94",
   "metadata": {},
   "outputs": [],
   "source": [
    "epipolar_line_1 = F @ q1"
   ]
  },
  {
   "cell_type": "markdown",
   "id": "2189d904",
   "metadata": {},
   "source": [
    "$q_2$ has to be on the epipolar line as $q_1 F q_2^T = 0$"
   ]
  },
  {
   "cell_type": "code",
   "execution_count": 94,
   "id": "82d30b8e",
   "metadata": {},
   "outputs": [
    {
     "data": {
      "text/plain": [
       "4.440892098500626e-16"
      ]
     },
     "execution_count": 94,
     "metadata": {},
     "output_type": "execute_result"
    }
   ],
   "source": [
    "q2 @ epipolar_line_1"
   ]
  },
  {
   "cell_type": "markdown",
   "id": "72244422",
   "metadata": {},
   "source": [
    "### 6. Relation between the 3D points in world space and in the frame of camera 1\n",
    "We know that  $\\tilde{\\mathit{Q}} = \\begin{bmatrix}\n",
    "        \\textbf{R}_1 & \\textbf{t}_1\\\\ 0 & 1\n",
    "    \\end{bmatrix} \\mathit{Q}$\n",
    "    \n",
    "Therefore:\n",
    "\\begin{align*}\n",
    "    \\begin{bmatrix}\n",
    "        \\textbf{R}_1^T & -\\textbf{R}_1^T\\textbf{t}_1\\\\ 0 & 1\n",
    "    \\end{bmatrix} \\tilde{\\mathit{Q}} \n",
    "    &=\n",
    "    \\begin{bmatrix}\n",
    "        \\textbf{R}_1^T & -\\textbf{R}_1^T\\textbf{t}_1\\\\ 0 & 1\n",
    "    \\end{bmatrix}\n",
    "    \\begin{bmatrix}\n",
    "        \\textbf{R}_1 & \\textbf{t}_1\\\\ 0 & 1\n",
    "    \\end{bmatrix} \\mathit{Q}\\\\\n",
    "    &= \\begin{bmatrix}\n",
    "        \\textbf{I}_3 & \\textbf{0}\\\\ 0 & 1\n",
    "    \\end{bmatrix} \\mathit{Q}\\\\\n",
    "    &= \\mathit{Q}\n",
    "\\end{align*}"
   ]
  },
  {
   "cell_type": "markdown",
   "id": "baf9e364",
   "metadata": {},
   "source": [
    "# 7. see and understand correction"
   ]
  },
  {
   "cell_type": "markdown",
   "id": "9f3d5d86",
   "metadata": {},
   "source": [
    "## Applied epipolar geometry"
   ]
  },
  {
   "cell_type": "code",
   "execution_count": null,
   "id": "da2ad820",
   "metadata": {},
   "outputs": [],
   "source": []
  }
 ],
 "metadata": {
  "kernelspec": {
   "display_name": "Python 3",
   "language": "python",
   "name": "python3"
  },
  "language_info": {
   "codemirror_mode": {
    "name": "ipython",
    "version": 3
   },
   "file_extension": ".py",
   "mimetype": "text/x-python",
   "name": "python",
   "nbconvert_exporter": "python",
   "pygments_lexer": "ipython3",
   "version": "3.8.8"
  }
 },
 "nbformat": 4,
 "nbformat_minor": 5
}
