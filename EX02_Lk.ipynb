{
 "cells": [
  {
   "cell_type": "markdown",
   "metadata": {},
   "source": [
    "## Function definition"
   ]
  },
  {
   "cell_type": "code",
   "execution_count": 1,
   "metadata": {},
   "outputs": [],
   "source": [
    "import cv2\n",
    "import numpy as np\n",
    "from matplotlib import pyplot as plt\n",
    "import imutils\n",
    "import math\n",
    "from scipy.interpolate import RegularGridInterpolator\n",
    "import time\n",
    "from PIL import Image\n",
    "\n",
    "def eucl_dist(p):\n",
    "    return np.sqrt(np.square(p[0, :])+ np.square(p[1, :]))\n",
    "\n",
    "def delta_r(p, dist):\n",
    "    p = eucl_dist(p)\n",
    "    return dist[0]*p**2 + dist[1]*p**4 + dist[2]*p**8\n",
    "\n",
    "def radial_dist(p, dist):\n",
    "    return p*(1+delta_r(p, dist))\n",
    "\n",
    "def box3d(n):\n",
    "    x = []\n",
    "    y = []\n",
    "    z = []\n",
    "\n",
    "    for i, val in enumerate([-0.5, -0.5, 0, 0.5, 0.5], 1):\n",
    "        x = np.concatenate((x, val*np.ones(n)))\n",
    "        y = np.concatenate((y, np.linspace(-0.5, 0.5, n)))\n",
    "        z = np.concatenate((z, (2*(i % 2)-1)*val*np.ones(n)))\n",
    "    x2 = np.concatenate((x, y))\n",
    "    x2 = np.concatenate((x2, x))\n",
    "    y2 = np.concatenate((y, z))\n",
    "    y2 = np.concatenate((y2, z))\n",
    "    z2 = np.concatenate((z, x))\n",
    "    z2 = np.concatenate((z2, y))\n",
    "    return np.vstack((x2, y2, z2))\n",
    "\n",
    "\n",
    "def projectpoints(K, R, t, Q):\n",
    "    #ret = K@np.concatenate((R, t))@np.hstack((P, 1))\n",
    "    ret = K@np.hstack((R, t))@np.vstack((Q, np.ones(len(Q[0]))))\n",
    "    return ret[0:2, :]/ret[2, :]\n",
    "\n",
    "def projectpoints2(K, R, t, Q, dist):\n",
    "\n",
    "    RtQ_homo = np.hstack((R, t))@np.vstack((Q, np.ones(len(Q[0]))))\n",
    "    RtQ_inhomo = RtQ_homo[0:2, :]/RtQ_homo[2, :]\n",
    "    rad_dist = radial_dist(RtQ_inhomo, dist)\n",
    "    rad_dist_homo = np.vstack((rad_dist, np.ones(len(rad_dist[0]))))\n",
    "    return K@rad_dist_homo"
   ]
  },
  {
   "cell_type": "markdown",
   "metadata": {},
   "source": [
    "## Exercise 2.1\n",
    "Adding soem extra parameters to camera matrix (alpha, beta, delta_x, delta_y)"
   ]
  },
  {
   "cell_type": "code",
   "execution_count": 2,
   "metadata": {},
   "outputs": [
    {
     "data": {
      "image/png": "[encoded data removed]",
      "text/plain": [
       "<Figure size 432x288 with 1 Axes>"
      ]
     },
     "metadata": {
      "needs_background": "light"
     },
     "output_type": "display_data"
    }
   ],
   "source": [
    "Q = box3d(16)\n",
    "f = 600\n",
    "alpha = 1\n",
    "beta = 0\n",
    "delta_x = delta_y = 400\n",
    "K = np.array([[f, beta*f, delta_x], [0, alpha*f, delta_y], [0, 0, 1]])\n",
    "R = np.identity(3)\n",
    "t = np.array([[0, 0.2, 2.5]]).T\n",
    "camera = projectpoints(K, R, t, Q)\n",
    "plt.scatter(camera[0], camera[1])\n",
    "plt.show()\n",
    "# y = distance from the object\n",
    "# z = distance from the object into the table\n",
    "# x = distance to left"
   ]
  },
  {
   "cell_type": "markdown",
   "metadata": {},
   "source": [
    "## Exercise 2.2\n",
    "Implementing distortino function"
   ]
  },
  {
   "cell_type": "code",
   "execution_count": 3,
   "metadata": {},
   "outputs": [
    {
     "data": {
      "image/png": "[encoded data removed]",
      "text/plain": [
       "<Figure size 432x288 with 1 Axes>"
      ]
     },
     "metadata": {
      "needs_background": "light"
     },
     "output_type": "display_data"
    }
   ],
   "source": [
    "Q = box3d(16)\n",
    "f = 600\n",
    "alpha = 1\n",
    "beta = 0\n",
    "delta_x = delta_y = 400\n",
    "K = np.array([[f, beta*f, delta_x], [0, alpha*f, delta_y], [0, 0, 1]])\n",
    "R = np.identity(3)\n",
    "t = np.array([[0, 0, 1.5]]).T\n",
    "k3 = -0.2\n",
    "k5 = 0\n",
    "k7 = 0\n",
    "dist = np.array([k3, k5, k7])\n",
    "camera = projectpoints2(K, R, t, Q, dist)\n",
    "plt.scatter(camera[0], camera[1])\n",
    "plt.show()"
   ]
  },
  {
   "cell_type": "markdown",
   "metadata": {},
   "source": [
    "## Exercise 2.3\n",
    "Finding the camera matrix for the gopro image."
   ]
  },
  {
   "cell_type": "code",
   "execution_count": 11,
   "metadata": {},
   "outputs": [
    {
     "name": "stdout",
     "output_type": "stream",
     "text": [
      "Camera Matrix\n",
      "[[218.75136   0.      240.     ]\n",
      " [  0.      218.75136 135.     ]\n",
      " [  0.        0.        1.     ]]\n"
     ]
    }
   ],
   "source": [
    "image = cv2.imread(\"gopro_robot.jpg\")\n",
    "new_image = np.zeros(image.shape)\n",
    "image = cv2.resize(image, (480, 270))\n",
    "new_image = cv2.resize(new_image, (480, 270))\n",
    "(h, w, d) = image.shape\n",
    "\n",
    "delta_x = w/2  # principal point should be in the middle\n",
    "delta_y = h/2\n",
    "alpha = 1\n",
    "beta = 0\n",
    "f = 0.455732 * w\n",
    "K = np.array([[f, beta*f, delta_x], [0, alpha*f, delta_y], [0, 0, 1]])\n",
    "print(\"Camera Matrix\")\n",
    "print(K)"
   ]
  },
  {
   "cell_type": "markdown",
   "metadata": {},
   "source": [
    "## Exercise 2.4\n",
    "This one was the most tricky. Firstly I misunderstood that we actually have the pixels, not the position in meters, so I wrongly implemented it to the opposite side of the equation. to get the results, there are two options.\n",
    "1) Inverse the whole logic of the equation which is used for computing the distorin (which includes inversing the dist() function. It might be working, but it would take ages to do it. Therefore the more clever idea is probably the next option\n",
    "2) Use bilinear interpolation by running scipy.interpolate.RegularGridInterpolator. Havent tried yet, but might give a try later. Nevertheless, its just premade function which wont give much of the value to implement. Its more likely just about finding the right arguments in the function call..."
   ]
  },
  {
   "cell_type": "code",
   "execution_count": 15,
   "metadata": {},
   "outputs": [
    {
     "name": "stdout",
     "output_type": "stream",
     "text": [
      "240 -54468944\n"
     ]
    },
    {
     "data": {
      "text/plain": [
       "<matplotlib.image.AxesImage at 0x7fbae020bfa0>"
      ]
     },
     "execution_count": 15,
     "metadata": {},
     "output_type": "execute_result"
    },
    {
     "data": {
      "image/png": "[encoded data removed]",
      "text/plain": [
       "<Figure size 432x288 with 1 Axes>"
      ]
     },
     "metadata": {
      "needs_background": "light"
     },
     "output_type": "display_data"
    }
   ],
   "source": [
    "# This is compeltely wrong approach, but since it cost me like 2 hours of my life, I will just leave it here\n",
    "image = cv2.imread(\"gopro_robot.jpg\")\n",
    "#new_img = Image.new('RGB', (w, h), (0, 0, 0))\n",
    "new_image = np.zeros(image.shape[:2])\n",
    "image = cv2.resize(image, (480, 270))\n",
    "new_image = cv2.resize(new_image, (480, 270))\n",
    "(h, w, d) = image.shape\n",
    "\n",
    "delta_x = w/2  # principal point should be in the middle\n",
    "delta_y = h/2\n",
    "alpha = 1\n",
    "beta = 0\n",
    "K = np.array([[f, beta*f, delta_x], [0, alpha*f, delta_y], [0, 0, 1]])\n",
    "R = np.identity(3)\n",
    "t = np.array([[0, 0, 10]]).T\n",
    "f = 0.455732*1920\n",
    "k3 = -0.245031\n",
    "k5 = 0.071524\n",
    "k7 = -0.00994978\n",
    "dist = np.array([k3, k5, k7])\n",
    "\n",
    "camera = projectpoints2(K, R, t, np.array([[0],[425],[54]]),dist)\n",
    "print(int(camera[0][0]),int(camera[1][0]))\n",
    "plt.imshow(new_image)"
   ]
  },
  {
   "cell_type": "markdown",
   "metadata": {},
   "source": [
    "This is the working code by Juliette.\n",
    "To use it, you make a grid of the coordinates that you want to query. That's the fun part. \n",
    "I ended up in blood and tears over this (only half of the exercises left now lol... I was hoping every week would be like the first) so I can be empathic and send the whole function if you need it X)\n",
    "I'll ask a TA next week about my bug, I don't have the will to keep trying to understand what happens"
   ]
  },
  {
   "cell_type": "code",
   "execution_count": 16,
   "metadata": {},
   "outputs": [],
   "source": [
    "Image = cv2.imread(\"gopro_robot.jpg\")\n",
    "n = Image.shape[0]\n",
    "m = Image.shape[1]\n",
    "points = (np.arange(0, n), np.arange(0, m))\n",
    "I = Image[:, :, 0]\n",
    "\n",
    "interpolating_function = RegularGridInterpolator(\n",
    "  points,\n",
    "  values=I,\n",
    "  method=\"nearest\",\n",
    "  bounds_error=False,\n",
    "  fill_value=0\n",
    ")"
   ]
  },
  {
   "cell_type": "markdown",
   "metadata": {},
   "source": [
    "## Exercise 2.5\n",
    "* Map the points p_i using the homography points p_1 -> p_4 on a plane\n",
    "* q1 = H*q2"
   ]
  },
  {
   "cell_type": "code",
   "execution_count": 183,
   "metadata": {},
   "outputs": [
    {
     "name": "stdout",
     "output_type": "stream",
     "text": [
      "q_inhomo [[-0.33333333]\n",
      " [-0.33333333]]\n",
      "q_inhomo [[ 0.33333333]\n",
      " [-2.        ]]\n",
      "q_inhomo [[-1.        ]\n",
      " [-1.33333333]]\n",
      "q_inhomo [[-1.]\n",
      " [-2.]]\n"
     ]
    }
   ],
   "source": [
    "def homography_point(H,q):\n",
    "    q_ret = H@q\n",
    "    p_ret = q_ret[0:2, :]/q_ret[2, :]\n",
    "    print (\"q_inhomo\", p_ret)\n",
    "    return p_ret #inhomogeneous\n",
    "\n",
    "H = np.array([[-2,0,1],[1,-2,0],[0,0,3]])\n",
    "q1_1 = np.array([[1, 1, 1]]).T #first point, original image\n",
    "q1_2 = np.array([[0, 3, 1]]).T\n",
    "q1_3 = np.array([[2, 3, 1]]).T\n",
    "q1_4 = np.array([[2, 4, 1]]).T\n",
    "q2_1 = np.vstack((homography_point(H,q1_1),1)) #first point, result image (after applying H)\n",
    "q2_2 = np.vstack((homography_point(H,q1_2),1))\n",
    "q2_3 = np.vstack((homography_point(H,q1_3),1))\n",
    "q2_4 = np.vstack((homography_point(H,q1_4),1))\n",
    "# q2_1 = homography_point(H,q1_1)\n",
    "# q2_2 = homography_point(H,q1_2)\n",
    "# q2_3 = homography_point(H,q1_3)\n",
    "# q2_4 = homography_point(H,q1_4)\n"
   ]
  },
  {
   "cell_type": "markdown",
   "metadata": {},
   "source": [
    "## Exercise 2.6\n",
    "- Function hest, arg 2 sets of (q1 and q2), return estimated homography matrix\n",
    "- we need at least 4 pairs of points to estimate homography\n",
    "- https://learnopencv.com/homography-examples-using-opencv-python-c/\n",
    "- SVD is finding the eigenvector with the smallest eigenvalue\n",
    "- The solution of Ax = 0 where ||x||2 = 1 is found using SVD. x = v where the singular vector corresponds to the smallest singular value.\n",
    "- matrix B is A in SVD\n",
    "- flatten(H) is x in SVD\n",
    "- we try to find x, which we transform into H"
   ]
  },
  {
   "cell_type": "markdown",
   "metadata": {},
   "source": []
  },
  {
   "cell_type": "code",
   "execution_count": 224,
   "metadata": {},
   "outputs": [
    {
     "name": "stdout",
     "output_type": "stream",
     "text": [
      "q1\n",
      "[[1 0 2 2]\n",
      " [1 3 3 4]\n",
      " [1 1 1 1]]\n",
      "q2\n",
      "[[-0.33333333  0.33333333 -1.         -1.        ]\n",
      " [-0.33333333 -2.         -1.33333333 -2.        ]\n",
      " [ 1.          1.          1.          1.        ]]\n",
      "B\n",
      "[[-0.   0.3 -0.3 -0.   0.3 -0.3  0.  -1.   1. ]\n",
      " [-0.3 -0.   0.3 -0.3 -0.   0.3  1.   0.  -1. ]\n",
      " [ 0.3 -0.3 -0.   0.3 -0.3 -0.  -1.   1.   0. ]\n",
      " [ 0.  -0.3  1.  -0.   2.  -6.   0.  -1.   3. ]\n",
      " [ 0.3  0.   0.  -2.  -0.  -0.   1.   0.   0. ]\n",
      " [-1.   0.   0.   6.  -0.  -0.  -3.   0.   0. ]\n",
      " [-0.   1.  -3.  -0.   1.3 -4.   0.  -1.   3. ]\n",
      " [-1.  -0.   2.  -1.3 -0.   2.7  1.   0.  -2. ]\n",
      " [ 3.  -2.  -0.   4.  -2.7 -0.  -3.   2.   0. ]\n",
      " [-0.   1.  -4.  -0.   2.  -8.   0.  -1.   4. ]\n",
      " [-1.  -0.   2.  -2.  -0.   4.   1.   0.  -2. ]\n",
      " [ 4.  -2.  -0.   8.  -4.  -0.  -4.   2.   0. ]]\n",
      "H [[-0.59  0.    0.2 ]\n",
      " [-0.3  -0.59  0.1 ]\n",
      " [-0.    0.    0.4 ]]\n"
     ]
    }
   ],
   "source": [
    "def hest(q1,q2):\n",
    "    #q1 = [[x10_result, x11_result][y10_result, y11_result]] #first number which q, second which column\n",
    "    #q2 = [[x20_original, x21_original],[y20_original, y21_original]]\n",
    "    #q1 = H@q2\n",
    "    assert len(q1[0])>1, \"We need at least two points (aka two columns)\"\n",
    "    assert len(q1[0])==len(q2[0]), \"Number of column of q1 and q2 must be equal!\"\n",
    "    B = get_b(q1,q2)#np.vstack((B0,B1))\n",
    "    print(\"B\")\n",
    "    print(B.round(1)) # does not matter whether there is 1 or 3 in the top right 3x3 matrix\n",
    "    U,S,VT = np.linalg.svd(B.T@B) #U,S,VT = np.linalg.svd(np.hstack((B.T,B)))\n",
    "    H = np.reshape(VT[-1],(3,3)) # VT is sorted in descending order of singular value\n",
    "    print(\"H\",H.T.round(2))\n",
    "\n",
    "def get_b(q1,q2):\n",
    "    B = np.kron(q2[:,0], np.array([[0,-1,q1[1,0]],[1,0,-q1[0,0]],[-q1[1,0],q1[0,0],0]]))\n",
    "    for i in range(1,len(q1[0])):\n",
    "        B_temp = np.kron(q2[:,i], np.array([[0,-1,q1[1,i]],[1,0,-q1[0,i]],[-q1[1,i],q1[0,i],0]]))\n",
    "        B = np.vstack((B,B_temp))\n",
    "    return B\n",
    "\n",
    "q1 = np.hstack((q1_1,q1_2,q1_3,q1_4))\n",
    "q2 = np.hstack((q2_1,q2_2,q2_3,q2_4))\n",
    "\n",
    "print(\"q1\")\n",
    "print(q1)\n",
    "print(\"q2\")\n",
    "print(q2)\n",
    "hest(q1,q2)"
   ]
  },
  {
   "cell_type": "markdown",
   "metadata": {},
   "source": [
    "## Exercise 2.7\n",
    "- function normalize2d that finds transformation T such that q_ih = T@p_ih has mean [0,0] and standard deviation [1,1] for all q_i"
   ]
  },
  {
   "cell_type": "code",
   "execution_count": 225,
   "metadata": {},
   "outputs": [
    {
     "name": "stdout",
     "output_type": "stream",
     "text": [
      "[[1.         0.         0.5        0.33333333]\n",
      " [1.         1.         1.         1.        ]\n",
      " [1.         0.33333333 0.         0.        ]]\n"
     ]
    }
   ],
   "source": [
    "def normalize2d(q):\n",
    "    #create NumPy array\n",
    "    q_ret = np.empty((3,0),float)\n",
    "    for i in range (0,len(q[0])):\n",
    "        q_temp = np.array([q[:,i]])\n",
    "        if (q_temp.max() - q_temp.min())==0: #problem with division by 0\n",
    "            q_norm = q_temp\n",
    "        else:\n",
    "            q_norm = (q_temp - q_temp.min())/ (q_temp.max() - q_temp.min())\n",
    "        q_ret = np.hstack((q_ret,q_norm.T))\n",
    "    return q_ret\n",
    "\n",
    "q_res = normalize2d(q1) #normalize all values in array\n",
    "print(q_res)\n",
    "\n",
    "# we should use it on inhomogeneous point and I am using it on homogeneous\n",
    "# but if I use it on inhomogeneous point, for q1 in last free columns result\n",
    "# into the same point, which is nonsense...\n"
   ]
  }
 ],
 "metadata": {
  "interpreter": {
   "hash": "e2f7feba068139f0f7d9d79c50ad8fffb328695f962cc01e69160a3465196941"
  },
  "kernelspec": {
   "display_name": "Python 3",
   "language": "python",
   "name": "python3"
  },
  "language_info": {
   "codemirror_mode": {
    "name": "ipython",
    "version": 3
   },
   "file_extension": ".py",
   "mimetype": "text/x-python",
   "name": "python",
   "nbconvert_exporter": "python",
   "pygments_lexer": "ipython3",
   "version": "3.8.8"
  }
 },
 "nbformat": 4,
 "nbformat_minor": 2
}
