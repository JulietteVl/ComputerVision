{
 "cells": [
  {
   "cell_type": "markdown",
   "id": "6d4442d2",
   "metadata": {},
   "source": [
    "# VII Robust model fitting"
   ]
  },
  {
   "cell_type": "code",
   "execution_count": 1,
   "id": "5bc914e6",
   "metadata": {},
   "outputs": [],
   "source": [
    "import matplotlib.pyplot as plt\n",
    "import numpy as np\n",
    "\n",
    "def homogeneous(p):\n",
    "    try:\n",
    "        _, n = p.shape\n",
    "    except:\n",
    "        p.reshape(2, 1)\n",
    "        n = 1\n",
    "    return np.vstack((p, np.ones(n)))"
   ]
  },
  {
   "cell_type": "markdown",
   "id": "4f106021",
   "metadata": {},
   "source": [
    "## RANSAC"
   ]
  },
  {
   "cell_type": "code",
   "execution_count": 5,
   "id": "649575cd",
   "metadata": {},
   "outputs": [],
   "source": [
    "def test_points(n_in, n_out):\n",
    "    a = (np.random.rand(n_in)-.5)*10\n",
    "    b = np.vstack((a, a*.5+np.random.randn(n_in)*.25))\n",
    "    points = np.hstack((b, 2*np.random.randn(2, n_out)))\n",
    "    return np.random.permutation(points.T).T"
   ]
  },
  {
   "cell_type": "code",
   "execution_count": 3,
   "id": "cca3ca0e",
   "metadata": {},
   "outputs": [
    {
     "data": {
      "image/png": "[encoded data removed]",
      "text/plain": [
       "<Figure size 432x288 with 1 Axes>"
      ]
     },
     "metadata": {
      "needs_background": "light"
     },
     "output_type": "display_data"
    }
   ],
   "source": [
    "points = test_points(n_in=10, n_out=5)\n",
    "plt.plot(points[0], points[1], '.');"
   ]
  },
  {
   "cell_type": "markdown",
   "id": "db030456",
   "metadata": {},
   "source": [
    "### 1. Line estimation"
   ]
  },
  {
   "cell_type": "code",
   "execution_count": 225,
   "id": "56aaa1b9",
   "metadata": {},
   "outputs": [],
   "source": [
    "def get_line_parameters(points):\n",
    "    points = homogeneous(points)\n",
    "    a, b, c = np.cross(points[:, 0], points[:, 1])\n",
    "    return np.array([a, b, c]) / np.linalg.norm([a, b])"
   ]
  },
  {
   "cell_type": "code",
   "execution_count": 226,
   "id": "b7bbf3e5",
   "metadata": {},
   "outputs": [
    {
     "name": "stdout",
     "output_type": "stream",
     "text": [
      "[8 2]\n"
     ]
    },
    {
     "data": {
      "text/plain": [
       "array([1.11022302e-16])"
      ]
     },
     "execution_count": 226,
     "metadata": {},
     "output_type": "execute_result"
    }
   ],
   "source": [
    "p = np.array([8, 2]).reshape(2, 1)\n",
    "q = np.array([-8, -3]).reshape(2, 1)\n",
    "points = np.hstack((p, q))\n",
    "print(points[:, 0])\n",
    "\n",
    "a, b, c = get_line_parameters(points)\n",
    "\n",
    "a * p[0] + b * p[1] + c"
   ]
  },
  {
   "cell_type": "markdown",
   "id": "398c7210",
   "metadata": {},
   "source": [
    "### 2. Inliers"
   ]
  },
  {
   "cell_type": "code",
   "execution_count": 234,
   "id": "9c8a9078",
   "metadata": {},
   "outputs": [],
   "source": [
    "def is_inlier(p, line, threshold):\n",
    "    p = homogeneous(p)\n",
    "    line = np.array(line)\n",
    "    distance_to_line = np.linalg.norm(\n",
    "        line.reshape((1, 3)) @ p.reshape((3, 1))\n",
    "    )\n",
    "    return distance_to_line < threshold"
   ]
  },
  {
   "cell_type": "code",
   "execution_count": 235,
   "id": "19b0d5b9",
   "metadata": {},
   "outputs": [
    {
     "data": {
      "text/plain": [
       "True"
      ]
     },
     "execution_count": 235,
     "metadata": {},
     "output_type": "execute_result"
    }
   ],
   "source": [
    "is_inlier(p, [a, b, c], 0.01)"
   ]
  },
  {
   "cell_type": "markdown",
   "id": "867e0460",
   "metadata": {},
   "source": [
    "### 3. Consensus"
   ]
  },
  {
   "cell_type": "code",
   "execution_count": 262,
   "id": "7cf29cec",
   "metadata": {},
   "outputs": [],
   "source": [
    "def consensus(points, line, threshold):\n",
    "    _, n = points.shape\n",
    "    inlier = [is_inlier(points[:, i].reshape(2, 1), line, threshold) for i in range(n)]\n",
    "    return np.sum(inlier)"
   ]
  },
  {
   "cell_type": "code",
   "execution_count": 263,
   "id": "59d113e6",
   "metadata": {},
   "outputs": [
    {
     "data": {
      "text/plain": [
       "2"
      ]
     },
     "execution_count": 263,
     "metadata": {},
     "output_type": "execute_result"
    }
   ],
   "source": [
    "consensus(np.hstack((p, q)), [a, b, c], 1)"
   ]
  },
  {
   "cell_type": "markdown",
   "id": "ce32ae3e",
   "metadata": {},
   "source": [
    "### 4. Random draw"
   ]
  },
  {
   "cell_type": "code",
   "execution_count": 280,
   "id": "8e16dd5c",
   "metadata": {},
   "outputs": [],
   "source": [
    "def draw_two(points):\n",
    "    _, n = points.shape\n",
    "    i, j = np.random.randint(n, size=2)\n",
    "    if i != j:\n",
    "        return points[:, [i, j]]\n",
    "    else:\n",
    "        return draw_two(points)"
   ]
  },
  {
   "cell_type": "code",
   "execution_count": 281,
   "id": "d7717108",
   "metadata": {},
   "outputs": [
    {
     "data": {
      "text/plain": [
       "array([[-8,  8],\n",
       "       [-3,  2]])"
      ]
     },
     "execution_count": 281,
     "metadata": {},
     "output_type": "execute_result"
    }
   ],
   "source": [
    "draw_two(np.hstack((p, q)))"
   ]
  },
  {
   "cell_type": "markdown",
   "id": "96d26fbb",
   "metadata": {},
   "source": [
    "### 5-8. Full RANSAC algorithm"
   ]
  },
  {
   "cell_type": "code",
   "execution_count": 341,
   "id": "d48a9e5f",
   "metadata": {},
   "outputs": [],
   "source": [
    "def RANSAC(points, tau, p=0.99, recompute_line=True):\n",
    "    M = points.shape[1]\n",
    "    m = 0\n",
    "    s = 0\n",
    "    N = 1\n",
    "    eps = 0\n",
    "\n",
    "    while m < N:\n",
    "        two_points = draw_two(points)\n",
    "        line = get_line_parameters(two_points)\n",
    "        n_in = consensus(points, line, tau)\n",
    "\n",
    "        if n_in > s:\n",
    "            s = n_in\n",
    "            best_guess = two_points\n",
    "\n",
    "        m += 1\n",
    "        eps = 1 - s / M\n",
    "        N = np.log(1 - p) / np.log(1 - (1 - eps) ** 2)\n",
    "    \n",
    "    line = get_line_parameters(best_guess)\n",
    "    if recompute_line:\n",
    "        inlier_mask = [is_inlier(points[:, i].reshape(2, 1), line, tau) for i in range(M)]\n",
    "        line = pca_line(points[:, inlier_mask])\n",
    "        \n",
    "    return line\n",
    "\n",
    "\n",
    "def get_y(x, line):\n",
    "    a, b, c = line\n",
    "    return - (x * a + c) / b"
   ]
  },
  {
   "cell_type": "code",
   "execution_count": 343,
   "id": "f633492f",
   "metadata": {},
   "outputs": [
    {
     "data": {
      "image/png": "[encoded data removed]",
      "text/plain": [
       "<Figure size 1080x360 with 2 Axes>"
      ]
     },
     "metadata": {
      "needs_background": "light"
     },
     "output_type": "display_data"
    }
   ],
   "source": [
    "points = test_points(n_in=250, n_out=250)\n",
    "line1 = RANSAC(points, tau=1, p = 0.99, recompute_line=False)\n",
    "line2 = RANSAC(points, tau=1, p = 1-1e-10)\n",
    "\n",
    "x = np.array([-5, 5])\n",
    "y1 = get_y(x, line1)\n",
    "y2 = get_y(x, line2)\n",
    "\n",
    "fig, ax = plt.subplots(1, 2, figsize=(15, 5))\n",
    "ax[0].plot(points[0], points[1], '.');\n",
    "ax[0].plot(x, y1);\n",
    "\n",
    "ax[1].plot(points[0], points[1], '.');\n",
    "ax[1].plot(x, y2);"
   ]
  },
  {
   "cell_type": "markdown",
   "id": "1802311d",
   "metadata": {},
   "source": [
    "- comments\n",
    "- functions documentation"
   ]
  }
 ],
 "metadata": {
  "kernelspec": {
   "display_name": "Python 3",
   "language": "python",
   "name": "python3"
  },
  "language_info": {
   "codemirror_mode": {
    "name": "ipython",
    "version": 3
   },
   "file_extension": ".py",
   "mimetype": "text/x-python",
   "name": "python",
   "nbconvert_exporter": "python",
   "pygments_lexer": "ipython3",
   "version": "3.8.8"
  }
 },
 "nbformat": 4,
 "nbformat_minor": 5
}
